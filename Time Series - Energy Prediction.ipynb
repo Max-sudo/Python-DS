{
 "cells": [
  {
   "cell_type": "markdown",
   "metadata": {
    "heading_collapsed": true
   },
   "source": [
    "# Imports"
   ]
  },
  {
   "cell_type": "code",
   "execution_count": 62,
   "metadata": {
    "ExecuteTime": {
     "end_time": "2021-01-22T14:57:41.184451Z",
     "start_time": "2021-01-22T14:57:40.990161Z"
    },
    "hidden": true
   },
   "outputs": [],
   "source": [
    "# importing required libraries\n",
    "import pandas as pd\n",
    "import numpy as np\n",
    "import category_encoders as ce\n",
    "import matplotlib.pyplot as plt\n",
    "import re\n",
    "from datetime import datetime as dt\n",
    "import calendar as cl\n",
    "from scipy.stats import pearsonr\n",
    "import random\n",
    "from pandas.tseries.holiday import USFederalHolidayCalendar as calendar\n",
    "\n",
    "# ML\n",
    "from sklearn.preprocessing import StandardScaler\n",
    "from sklearn.linear_model import LinearRegression\n",
    "from sklearn.metrics import r2_score\n",
    "from patsy import dmatrices\n",
    "import statsmodels.api as sm\n",
    "from statsmodels.tsa.api import ExponentialSmoothing, SimpleExpSmoothing, Holt, SARIMAX\n",
    "\n",
    "# Notebook settings\n",
    "from IPython.core.interactiveshell import InteractiveShell\n",
    "InteractiveShell.ast_node_interactivity = \"all\"\n",
    "\n",
    "from IPython.display import Markdown, display\n",
    "def printmd(string):\n",
    "    display(Markdown(string))\n",
    " \n",
    "# Silence chained warnings\n",
    "pd.options.mode.chained_assignment = None\n",
    "import logging\n",
    "loggers = [logging.getLogger(name) for name in logging.root.manager.loggerDict]\n",
    "for logger in loggers:\n",
    "    logger.setLevel(logging.CRITICAL)\n",
    "import warnings\n",
    "warnings.filterwarnings(\"ignore\")"
   ]
  },
  {
   "cell_type": "markdown",
   "metadata": {
    "heading_collapsed": true
   },
   "source": [
    "# Read Data"
   ]
  },
  {
   "cell_type": "code",
   "execution_count": 157,
   "metadata": {
    "ExecuteTime": {
     "end_time": "2021-01-23T16:24:21.231245Z",
     "start_time": "2021-01-23T16:24:21.156505Z"
    },
    "code_folding": [],
    "hidden": true
   },
   "outputs": [],
   "source": [
    "# Read in data\n",
    "temp = pd.read_csv('/Users/mfairb/Documents/ML Projects/Project - Pythonic Time Series/Milestone 1 Dataset/hr_temp_20170201-20200131_subset.csv')\n",
    "ft = pd.read_csv('/Users/mfairb/Documents/ML Projects/Project - Pythonic Time Series/Milestone 1 Dataset/hr_temp_20200201-20200229_subset.csv')\n",
    "meter = pd.read_csv('/Users/mfairb/Documents/ML Projects/Project - Pythonic Time Series/Milestone 1 Dataset/hrl_load_metered - 20170201-20200131.csv')\n",
    "\n",
    "# Keep only needed columns in temp and meter\n",
    "temp = temp[['DATE', 'HourlyDryBulbTemperature']]\n",
    "meter = meter[['datetime_beginning_ept', 'mw']]"
   ]
  },
  {
   "cell_type": "markdown",
   "metadata": {
    "heading_collapsed": true
   },
   "source": [
    "# Cleaning"
   ]
  },
  {
   "cell_type": "code",
   "execution_count": 158,
   "metadata": {
    "ExecuteTime": {
     "end_time": "2021-01-23T16:24:25.966352Z",
     "start_time": "2021-01-23T16:24:23.619305Z"
    },
    "hidden": true
   },
   "outputs": [],
   "source": [
    "# Adjust column names\n",
    "temp = temp.rename(columns={'DATE':'date'})\n",
    "meter = meter.rename(columns={'datetime_beginning_ept':'b_ept'})\n",
    "ft = ft.rename(columns={'DATE':'date'})\n",
    "\n",
    "# Standardize time format between sets (using format from temp)\n",
    "temp['date'] = pd.to_datetime(temp['date'])\n",
    "ft['date'] = pd.to_datetime(ft['date'])\n",
    "meter['b_ept'] = pd.to_datetime(meter['b_ept'])\n",
    "\n",
    "# Sort and join on index\n",
    "temp = temp.sort_values(by='date')\n",
    "ft = ft.sort_values(by='date')\n",
    "meter = meter.sort_values(by='b_ept')"
   ]
  },
  {
   "cell_type": "markdown",
   "metadata": {
    "heading_collapsed": true
   },
   "source": [
    "# Creating Train vs. Test"
   ]
  },
  {
   "cell_type": "code",
   "execution_count": 159,
   "metadata": {
    "ExecuteTime": {
     "end_time": "2021-01-23T16:24:27.862538Z",
     "start_time": "2021-01-23T16:24:26.882551Z"
    },
    "code_folding": [],
    "hidden": true
   },
   "outputs": [],
   "source": [
    "# Join on date (date & b_ept)\n",
    "data = {'mw': meter['mw'], \n",
    "        'temp': temp['HourlyDryBulbTemperature'], \n",
    "        'date': temp['date']}\n",
    "\n",
    "ft_data = {'temp': ft['HourlyDryBulbTemperature'], \n",
    "           'date': ft['date']}\n",
    "\n",
    "df = pd.DataFrame(data)\n",
    "ft = pd.DataFrame(ft_data)\n",
    "\n",
    "df['date'] = pd.to_datetime(df['date'])\n",
    "ft['date'] = pd.to_datetime(ft['date'])\n",
    "\n",
    "# Create hour, day, month, year columns\n",
    "new_columns = ['hour', 'day', 'month', 'year']\n",
    "for c in new_columns:\n",
    "   df[c] = [eval(f't.{c}') for t in df.date]\n",
    "   ft[c] = [eval(f't.{c}') for t in ft.date]\n",
    "   \n",
    "df['weekday'] = [t.weekday() for t in df.date]\n",
    "ft['weekday'] = [t.weekday() for t in ft.date]\n",
    "\n",
    "# Adjust columns and set index\n",
    "df = df.rename(columns={'HourlyDryBulbTemperature':'temp'})\n",
    "df = df.set_index('date')\n",
    "\n",
    "ft = ft.set_index('date')\n",
    "\n",
    "# Interpolating (Note that calling interp1d with NaNs present in input values results in undefined behaviour)\n",
    "df['temp'] = df['temp'].interpolate(method='linear')\n",
    "\n",
    "# Create train & test\n",
    "train = df[df.year < 2020]\n",
    "test = df[df.year >= 2020]"
   ]
  },
  {
   "cell_type": "markdown",
   "metadata": {
    "heading_collapsed": true
   },
   "source": [
    "# Visualization"
   ]
  },
  {
   "cell_type": "markdown",
   "metadata": {
    "heading_collapsed": true,
    "hidden": true
   },
   "source": [
    "###### Auxillary functions/definitions"
   ]
  },
  {
   "cell_type": "code",
   "execution_count": null,
   "metadata": {
    "ExecuteTime": {
     "end_time": "2021-01-13T02:20:39.869812Z",
     "start_time": "2021-01-13T02:20:39.856651Z"
    },
    "hidden": true
   },
   "outputs": [],
   "source": [
    "# FUNCTION: Plot any time period\n",
    "def plot_timeblock(df, \n",
    "                   variable=None,\n",
    "                   timeblock=None,\n",
    "                   years=[2017, 2018, 2019, 2020],\n",
    "                   months=range(1, 13),\n",
    "                   weeks=range(1, 53),\n",
    "                   days=range(1, 32),\n",
    "                   weekdays=range(1, 8)\n",
    "                  ):\n",
    "    \n",
    "    df = df[(df.index.year.isin(years)) & \\\n",
    "               (df.index.month.isin(months)) & \\\n",
    "               (df.index.week.isin(weeks)) & \\\n",
    "               (df.index.day.isin(days)) & \\\n",
    "               (df.index.weekday.isin(weekdays))]\n",
    "\n",
    "    df_timeblock = f'df.{timeblock}'\n",
    "\n",
    "    for t in pd.unique(eval(df_timeblock)):\n",
    "        plt.plot(eval(f'df.{variable}[{df_timeblock}=={t}]'))\n",
    "        \n",
    "    plt.title(variable)\n",
    "    plt.xticks(rotation=45)\n",
    "    plt.show()"
   ]
  },
  {
   "cell_type": "code",
   "execution_count": null,
   "metadata": {
    "ExecuteTime": {
     "end_time": "2021-01-13T02:20:40.574982Z",
     "start_time": "2021-01-13T02:20:40.568839Z"
    },
    "hidden": true
   },
   "outputs": [],
   "source": [
    "# FUNCTION: Create data frame for any time period\n",
    "def create_timeblock(df, \n",
    "                   variable=None,\n",
    "                   timeblock=None,\n",
    "                   years=[2017, 2018, 2019, 2020],\n",
    "                   months=range(1, 13),\n",
    "                   weeks=range(1, 53),\n",
    "                   days=range(1, 32),\n",
    "                   weekdays=range(1, 8)\n",
    "                  ):\n",
    "    \n",
    "    df = df[(df.index.year.isin(years)) & \\\n",
    "               (df.index.month.isin(months)) & \\\n",
    "               (df.index.week.isin(weeks)) & \\\n",
    "               (df.index.day.isin(days)) & \\\n",
    "               (df.index.weekday.isin(weekdays))]\n",
    "\n",
    "    return(df)"
   ]
  },
  {
   "cell_type": "code",
   "execution_count": null,
   "metadata": {
    "ExecuteTime": {
     "end_time": "2021-01-13T02:20:41.462026Z",
     "start_time": "2021-01-13T02:20:41.455715Z"
    },
    "hidden": true
   },
   "outputs": [],
   "source": [
    "# FUNCTION: Overlay temp and mw for same time period\n",
    "def plot_overlay(data1, data2, title):\n",
    "    \n",
    "    # Create some plot\n",
    "    fig, ax1 = plt.subplots()\n",
    "    \n",
    "    color = 'tab:red'\n",
    "    ax1.set_xlabel('time (hr)')\n",
    "    ax1.set_ylabel('temp', color=color)\n",
    "    ax1.plot(data1, color=color)\n",
    "    ax1.tick_params(axis='y', labelcolor=color)\n",
    "    \n",
    "    ax2 = ax1.twinx()  # instantiate a second axes that shares the same x-axis\n",
    "    \n",
    "    color = 'tab:blue'\n",
    "    ax2.set_ylabel('mw', color=color)\n",
    "    ax2.plot(data2, color=color)\n",
    "    ax2.tick_params(axis='y', labelcolor=color)\n",
    "    \n",
    "    fig.tight_layout()  # otherwise the right y-label is slightly clipped\n",
    "    fig.autofmt_xdate()\n",
    "    plt.title(title.upper())\n",
    "    plt.show();"
   ]
  },
  {
   "cell_type": "code",
   "execution_count": null,
   "metadata": {
    "ExecuteTime": {
     "end_time": "2021-01-13T02:20:42.611131Z",
     "start_time": "2021-01-13T02:20:42.605338Z"
    },
    "hidden": true
   },
   "outputs": [],
   "source": [
    "# FUNCTION: Robust plot_overlay\n",
    "def robust_plot_overlay(data, title):\n",
    "    \n",
    "    # Create some mock data\n",
    "    fig, axes = plt.subplots()\n",
    "    \n",
    "    for d in data:"
   ]
  },
  {
   "cell_type": "code",
   "execution_count": null,
   "metadata": {
    "ExecuteTime": {
     "end_time": "2021-01-02T04:47:54.376058Z",
     "start_time": "2021-01-02T04:47:54.370094Z"
    },
    "hidden": true
   },
   "outputs": [],
   "source": [
    "# Create season ranges\n",
    "year = 2017\n",
    "spring_range = pd.date_range(f'{year}-03-01', f'{year}-05-31')\n",
    "summer_range = pd.date_range(f'{year}-06-01', f'{year}-08-31')\n",
    "fall_range = pd.date_range(f'{year}-09-01', f'{year}-11-30')\n",
    "winter_range = pd.date_range(f'{year}-12-01', f'{year+1}-02-28')"
   ]
  },
  {
   "cell_type": "markdown",
   "metadata": {
    "heading_collapsed": true,
    "hidden": true
   },
   "source": [
    "###### 1. Plot the training energy data over time.<br>"
   ]
  },
  {
   "cell_type": "code",
   "execution_count": null,
   "metadata": {
    "ExecuteTime": {
     "end_time": "2021-01-01T20:20:53.719143Z",
     "start_time": "2021-01-01T20:20:53.543480Z"
    },
    "hidden": true
   },
   "outputs": [],
   "source": [
    "# Training ENERGY data over time\n",
    "plot_timeblock(train,\n",
    "              variable='mw',\n",
    "              timeblock='year',\n",
    "              years=[2017, 2018, 2019])"
   ]
  },
  {
   "cell_type": "raw",
   "metadata": {
    "hidden": true
   },
   "source": [
    "Energy use is highest in summer months but also has a secondary peak in winter months. Both spring and fall have the lowest energy use."
   ]
  },
  {
   "cell_type": "markdown",
   "metadata": {
    "heading_collapsed": true,
    "hidden": true
   },
   "source": [
    "###### 2. Dive deeper and plot one week of the training energy data.<br>"
   ]
  },
  {
   "cell_type": "code",
   "execution_count": null,
   "metadata": {
    "ExecuteTime": {
     "end_time": "2021-01-02T06:39:27.984975Z",
     "start_time": "2021-01-02T06:39:25.339046Z"
    },
    "hidden": true
   },
   "outputs": [],
   "source": [
    "# Plot several weeks from each season to view daily energy use\n",
    "n_cols = 2\n",
    "n_rows = 2\n",
    "seasons = ['spring', 'summer', 'fall', 'winter']\n",
    "\n",
    "for season in seasons:\n",
    "    printmd(f'**{season.upper()} DAILY PLOTS**')\n",
    "    fig, ax = plt.subplots(nrows=n_rows, ncols=n_cols, figsize=(15, 10))\n",
    "    fig.tight_layout()\n",
    "    #fig.autofmt_xdate()\n",
    "    \n",
    "    axs = ax.flatten()\n",
    "    for axes in axs:\n",
    "        dt = random.choice(eval(f'{season}_range'))\n",
    "        block = create_timeblock(train,\n",
    "                                 variable='temp',\n",
    "                                 timeblock='week',\n",
    "                                 years=[dt.year],\n",
    "                                 weeks=[dt.week])\n",
    "        \n",
    "        for tick in axes.get_xticklabels():\n",
    "            tick.set_rotation(10)\n",
    "\n",
    "        _ = axes.plot(block.temp);\n",
    "        \n",
    "    plt.show();"
   ]
  },
  {
   "cell_type": "markdown",
   "metadata": {
    "hidden": true
   },
   "source": [
    " Day of the week observations:\n",
    " <br><br>\n",
    " Spring: Fairly stable energy use on a day-over-day basis though some larger peaks/valleys do appear\n",
    " <br><br>\n",
    " Summer: High daily peaks while the maximum energy expended per day seems to slightly decrease towards the middle of the week before again increasing at the end of the week\n",
    " <br><br>\n",
    " Fall: Earlier fall months resemble summer patterns while later fall months are more difficult to describe. There seems to be more variation on a daily basis in colder months than in warmer.\n",
    " <br><br>\n",
    " Winter: More erratic energy behavior though in later winter month there does seem to be more weeks that start with medium/high energy and then taper off towards the end of the week"
   ]
  },
  {
   "cell_type": "code",
   "execution_count": null,
   "metadata": {
    "ExecuteTime": {
     "end_time": "2021-01-02T06:14:50.281862Z",
     "start_time": "2021-01-02T06:14:48.444373Z"
    },
    "code_folding": [],
    "hidden": true
   },
   "outputs": [],
   "source": [
    "# Plot several days from each season to view hourly energy use\n",
    "n_rows = 1\n",
    "n_cols = 3\n",
    "seasons = ['spring', 'summer', 'fall', 'winter']\n",
    "\n",
    "for season in seasons:\n",
    "    printmd(f'**{season.upper()} DAILY PLOTS**')\n",
    "    fig, ax = plt.subplots(nrows=n_rows, ncols=n_cols, figsize=(15, 5))\n",
    "    fig.tight_layout()\n",
    "    axs = ax.flatten()\n",
    "    \n",
    "    months = pd.unique([d.month for d in eval(f'{season}_range')])\n",
    "    \n",
    "    for i in range(len(axs)):\n",
    "        dt = random.choice(eval(f'{season}_range[{season}_range.month==months[i]]'))\n",
    "        block = create_timeblock(train,\n",
    "                                 variable='temp',\n",
    "                                 timeblock='year',\n",
    "                                 years=[dt.year],\n",
    "                                 weeks=[dt.week],\n",
    "                                 weekdays=[1])\n",
    "        \n",
    "        for tick in axs[i].get_xticklabels():\n",
    "            tick.set_rotation(30)\n",
    "            \n",
    "        _ = axs[i].plot(block.temp);\n",
    "        \n",
    "    plt.show();"
   ]
  },
  {
   "cell_type": "markdown",
   "metadata": {
    "hidden": true
   },
   "source": [
    "Hourly observations:\n",
    "<br><br>\n",
    "Spring: Earlierr spring days resumble winter days with a choppy peark that tapers off at the end of the day. Later spring days resemble the smooth S-curve seen in summer months.\n",
    "<br><br>\n",
    "Summer: Generally smooth S-curve\n",
    "<br><br>\n",
    "Fall: Shift from a smooth S-curve to a daily peak with sharp increase/decrease\n",
    "<br><br>\n",
    "Winter: Broken S-curve. Sometimes bimodal, other times with a plateau or very slight increase through midday. Most days end with sharp tapering off."
   ]
  },
  {
   "cell_type": "markdown",
   "metadata": {
    "heading_collapsed": true,
    "hidden": true
   },
   "source": [
    "###### 3. Plot the training temperature data over time."
   ]
  },
  {
   "cell_type": "code",
   "execution_count": null,
   "metadata": {
    "ExecuteTime": {
     "end_time": "2021-01-02T04:25:53.977961Z",
     "start_time": "2021-01-02T04:25:53.694369Z"
    },
    "hidden": true
   },
   "outputs": [],
   "source": [
    "# Plot temperature and energy overlay\n",
    "plot_overlay(train.temp, train.mw, 'Temp & Energy Over Time')"
   ]
  },
  {
   "cell_type": "markdown",
   "metadata": {
    "heading_collapsed": true,
    "hidden": true
   },
   "source": [
    "###### 4. Dive deeper and plot one week of the training temperature data."
   ]
  },
  {
   "cell_type": "code",
   "execution_count": null,
   "metadata": {
    "ExecuteTime": {
     "end_time": "2021-01-02T05:58:26.580336Z",
     "start_time": "2021-01-02T05:58:24.904513Z"
    },
    "hidden": true
   },
   "outputs": [],
   "source": [
    "# Training ENERGY day of the week (plot 10 random weeks)\n",
    "seasons = ['spring', 'summer', 'fall', 'winter']\n",
    "for season in seasons:\n",
    "    dt = random.choice(eval(f'{season}_range'))\n",
    "    a = create_timeblock(train,\n",
    "                      variable='temp',\n",
    "                      timeblock='year',\n",
    "                      years=[dt.year],\n",
    "                      weeks=[dt.week],\n",
    "                      weekdays=[1])\n",
    "    plot_overlay(a.temp, a.mw, season);\n"
   ]
  },
  {
   "cell_type": "markdown",
   "metadata": {
    "hidden": true
   },
   "source": [
    "General observations:\n",
    "<br><br>\n",
    "In spring and summer months, temperature and energy seem to be very closely correlated. The shapes of the temperature and energy curves are often nearly identical.\n",
    "<br><br>\n",
    "In fall months, the two curves are still closely related but the relationship is a little choppier and deviations are more common.\n",
    "<br><br>\n",
    "In winter months, the two curves are more loosely correlated. Different than the daily curves other seasons, there is often a dip in energy use in the early evening followed by a secondary peak before tapering off at the end of the day. "
   ]
  },
  {
   "cell_type": "markdown",
   "metadata": {
    "heading_collapsed": true,
    "hidden": true
   },
   "source": [
    "###### 5.Calculate the correlation of training energy data with your training temperature data."
   ]
  },
  {
   "cell_type": "code",
   "execution_count": null,
   "metadata": {
    "ExecuteTime": {
     "end_time": "2021-01-02T05:53:38.520688Z",
     "start_time": "2021-01-02T05:53:38.120661Z"
    },
    "hidden": true
   },
   "outputs": [],
   "source": [
    "# Create function for optimal correlation split\n",
    "# The temperature/energy relationship is non-linear but would like correlation split by temperature\n",
    "span =  np.linspace(min(train.temp), max(train.temp), 50)[1:]\n",
    "corrs = []\n",
    "for c in span:\n",
    "    try:\n",
    "        x = train.temp[train.temp<c]\n",
    "        y = train.mw[train.temp<c]\n",
    "        corrs.append(pearsonr(x, y)[0])\n",
    "    except:\n",
    "        pass\n",
    "\n",
    "optimal_split = span[np.argmin(corrs)]\n",
    "\n",
    "under_x = train.temp[train.temp<optimal_split]\n",
    "under_y = train.mw[train.temp<optimal_split]\n",
    "over_x = train.temp[train.temp>=optimal_split]\n",
    "over_y = train.mw[train.temp>=optimal_split]\n",
    "\n",
    "neg_corr = round(pearsonr(under_x, under_y)[0], 2)\n",
    "pos_corr = round(pearsonr(over_x, over_y)[0], 2)\n",
    "\n",
    "plt.scatter(under_x, under_y)\n",
    "plt.scatter(over_x, over_y)\n",
    "\n",
    "plt.annotate(f'Negative Correlation: {neg_corr}', xy =(35, 1500), \n",
    "                xytext =(-8, 1000), arrowprops = dict(facecolor ='green', \n",
    "                                  shrink = 0.05))\n",
    "plt.annotate(f'Positive Correlation: {pos_corr}', xy =(77, 2000), \n",
    "                xytext =(35, 2700), arrowprops = dict(facecolor ='green', \n",
    "                                  shrink = 0.05))\n",
    "plt.title('Temperature vs. Energy Correlation')\n",
    "plt.xlabel('Temp')\n",
    "plt.ylabel('Energy')\n",
    "plt.show();"
   ]
  },
  {
   "cell_type": "markdown",
   "metadata": {
    "heading_collapsed": true,
    "hidden": true
   },
   "source": [
    "###### 6.Plot a scatter plot between training temperature and energy data."
   ]
  },
  {
   "cell_type": "code",
   "execution_count": null,
   "metadata": {
    "ExecuteTime": {
     "end_time": "2021-01-02T06:02:01.892730Z",
     "start_time": "2021-01-02T06:02:01.689434Z"
    },
    "hidden": true
   },
   "outputs": [],
   "source": [
    "plt.scatter(train.temp, train.mw)\n",
    "plt.title('Temperature vs. Energy')\n",
    "plt.xlabel('Temperature (f)')\n",
    "plt.ylabel('Energy (mw)')\n",
    "plt.show();"
   ]
  },
  {
   "cell_type": "markdown",
   "metadata": {
    "heading_collapsed": true
   },
   "source": [
    "# Naive Model"
   ]
  },
  {
   "cell_type": "markdown",
   "metadata": {
    "ExecuteTime": {
     "end_time": "2021-01-02T09:41:37.720016Z",
     "start_time": "2021-01-02T09:41:37.717213Z"
    },
    "heading_collapsed": true,
    "hidden": true
   },
   "source": [
    "###### Auxillary functions"
   ]
  },
  {
   "cell_type": "code",
   "execution_count": 66,
   "metadata": {
    "ExecuteTime": {
     "end_time": "2021-01-22T14:57:58.358641Z",
     "start_time": "2021-01-22T14:57:58.349842Z"
    },
    "code_folding": [
     0
    ],
    "hidden": true
   },
   "outputs": [],
   "source": [
    "# FUNCTION: Prepare df\n",
    "def prep_data(df=None):\n",
    "    \"\"\"\n",
    "    This function prepares a data set for modeling (or scoring) by:\n",
    "        1) Creating a quadratic temperature variable based on a scaled version of temperature\n",
    "        2) Converting categorical variables to dummy variables\n",
    "        3) Building interaction effects if indicated\n",
    "    \"\"\"\n",
    "    # Create X\n",
    "    df2 = df.copy()\n",
    "    \n",
    "    # Standardize temp and temp2\n",
    "    df2['temp'] = (df2['temp']-df2['temp'].mean())/df2['temp'].std()\n",
    "    df2['temp2'] = df2['temp'] ** 2\n",
    "    \n",
    "    return(df2)"
   ]
  },
  {
   "cell_type": "code",
   "execution_count": 67,
   "metadata": {
    "ExecuteTime": {
     "end_time": "2021-01-22T14:58:00.872630Z",
     "start_time": "2021-01-22T14:58:00.863026Z"
    },
    "code_folding": [
     0
    ],
    "hidden": true
   },
   "outputs": [],
   "source": [
    "# FUNCTION: Model fitting\n",
    "def model(fit_df, \n",
    "          pred_df=None,\n",
    "          formula=None):\n",
    "    \n",
    "    model = sm.OLS.from_formula(formula, data=fit_df).fit()\n",
    "    \n",
    "    if pred_df is not None:\n",
    "        preds = model.predict(pred_df)\n",
    "        return model, preds\n",
    "        \n",
    "    else: \n",
    "        return model"
   ]
  },
  {
   "cell_type": "code",
   "execution_count": 68,
   "metadata": {
    "ExecuteTime": {
     "end_time": "2021-01-22T14:58:01.468053Z",
     "start_time": "2021-01-22T14:58:01.460181Z"
    },
    "code_folding": [
     0
    ],
    "hidden": true
   },
   "outputs": [],
   "source": [
    "# FUNCTION: Score model\n",
    "def scoring(y_true, y_pred, method='mape'):\n",
    "    \n",
    "    # R2\n",
    "    if method == 'r2':\n",
    "        r2 = r2_score(y_true, y_pred)\n",
    "        n = train.shape[0]\n",
    "        p = train.shape[1]\n",
    "        adj_r2 = 1-(1-r2)*(n-1)/(n-p-1)\n",
    "        return adj_r2\n",
    "    \n",
    "    # MAPE\n",
    "    elif method == 'mape':\n",
    "        mape = round(np.mean(np.abs((y_true - y_pred) / y_true)) * 100, 4)\n",
    "        return mape\n",
    "    "
   ]
  },
  {
   "cell_type": "code",
   "execution_count": 164,
   "metadata": {
    "ExecuteTime": {
     "end_time": "2021-01-23T16:27:21.945947Z",
     "start_time": "2021-01-23T16:27:21.913226Z"
    },
    "code_folding": [
     0
    ],
    "hidden": true
   },
   "outputs": [],
   "source": [
    "# Create train and test for modeling/scoring\n",
    "train = prep_data(train)\n",
    "test = prep_data(test)\n",
    "ft = prep_data(ft)"
   ]
  },
  {
   "cell_type": "markdown",
   "metadata": {
    "heading_collapsed": true,
    "hidden": true
   },
   "source": [
    "###### 2. Build an ordinary least squares (OLS) linear regression model on training data to predict energy using the variables described below."
   ]
  },
  {
   "cell_type": "code",
   "execution_count": 10,
   "metadata": {
    "ExecuteTime": {
     "end_time": "2021-01-18T17:37:06.104869Z",
     "start_time": "2021-01-18T17:37:05.395071Z"
    },
    "code_folding": [
     0
    ],
    "hidden": true
   },
   "outputs": [
    {
     "name": "stdout",
     "output_type": "stream",
     "text": [
      "Adjusted R^2 =  0.809\n"
     ]
    }
   ],
   "source": [
    "# Create X & y\n",
    "ols, preds = model(fit_df=train,\n",
    "                   pred_df=train,\n",
    "                   formula='mw ~ temp + temp2 + C(weekday) + C(hour) + C(month)')\n",
    "r2 = scoring(preds, train.mw, method='r2')\n",
    "\n",
    "print('Adjusted R^2 = ', round(r2, 4))"
   ]
  },
  {
   "cell_type": "markdown",
   "metadata": {
    "heading_collapsed": true,
    "hidden": true
   },
   "source": [
    "###### 3. Plot the scatter plot between energy and temperature (as in the previous section), but only for the months of January and July."
   ]
  },
  {
   "cell_type": "code",
   "execution_count": null,
   "metadata": {
    "ExecuteTime": {
     "end_time": "2021-01-15T01:31:34.476074Z",
     "start_time": "2021-01-15T01:31:34.255703Z"
    },
    "code_folding": [],
    "hidden": true
   },
   "outputs": [],
   "source": [
    "# Plot monthly scatter plots\n",
    "for i in range(1,8):\n",
    "    frame = train[train.month==i]\n",
    "    plt.scatter(frame.temp, frame.mw)\n",
    "    \n",
    "plt.title('Temperature vs. Energy')\n",
    "plt.xlabel('Temperature (f)')\n",
    "plt.ylabel('Energy (mw)')\n",
    "plt.show();\n"
   ]
  },
  {
   "cell_type": "markdown",
   "metadata": {
    "heading_collapsed": true,
    "hidden": true
   },
   "source": [
    "###### 4. Plot the scatter plot between energy and temperature (as in the previous section), but only for the hours of midnight and noon."
   ]
  },
  {
   "cell_type": "code",
   "execution_count": null,
   "metadata": {
    "ExecuteTime": {
     "end_time": "2021-01-15T01:31:38.281373Z",
     "start_time": "2021-01-15T01:31:38.139864Z"
    },
    "hidden": true
   },
   "outputs": [],
   "source": [
    "# Plot monthly scatter plots\n",
    "for i in [0, 12]:\n",
    "    frame = train[train.hour==i]\n",
    "    plt.scatter(frame.temp, frame.mw)\n",
    "    \n",
    "plt.title('Temperature vs. Energy')\n",
    "plt.xlabel('Temperature (f)')\n",
    "plt.ylabel('Energy (mw)')\n",
    "plt.show();"
   ]
  },
  {
   "cell_type": "markdown",
   "metadata": {
    "ExecuteTime": {
     "end_time": "2021-01-02T10:31:32.707896Z",
     "start_time": "2021-01-02T10:31:32.699228Z"
    },
    "heading_collapsed": true,
    "hidden": true
   },
   "source": [
    "###### 5. The relationship between energy and temperature depend on other factors, like hour of day and month of year. Add these two interactions to the linear regression model you previously built.\n",
    "\n",
    "Treating hour of day, day of week, and month of year as categorical variables.<br>"
   ]
  },
  {
   "cell_type": "code",
   "execution_count": 11,
   "metadata": {
    "ExecuteTime": {
     "end_time": "2021-01-18T17:37:12.040821Z",
     "start_time": "2021-01-18T17:37:11.478721Z"
    },
    "code_folding": [
     0
    ],
    "hidden": true
   },
   "outputs": [
    {
     "name": "stdout",
     "output_type": "stream",
     "text": [
      "Adjusted R^2 =  0.8588\n"
     ]
    }
   ],
   "source": [
    "# Model interactions\n",
    "ols, preds = model(fit_df=train,\n",
    "                   pred_df=train,\n",
    "                   formula='mw ~ temp*C(hour) + temp2*C(hour) + temp*C(month) + temp2*C(month)')\n",
    "r2 = scoring(preds, train.mw, method='r2')\n",
    "\n",
    "print('Adjusted R^2 = ', round(r2, 4))"
   ]
  },
  {
   "cell_type": "markdown",
   "metadata": {
    "heading_collapsed": true,
    "hidden": true
   },
   "source": [
    "###### 6. Previously observed that the relationship between energy and hour of day changes depending on what day of the week it is. Add this new interaction to linear regression model and evaluate model.\n",
    "\n",
    "###### 7. Calculate the predictions (or fitted values) from final linear regression model on training data set. Calculate the MAPE for these predictions from training data set."
   ]
  },
  {
   "cell_type": "code",
   "execution_count": 70,
   "metadata": {
    "ExecuteTime": {
     "end_time": "2021-01-22T14:58:16.951102Z",
     "start_time": "2021-01-22T14:58:15.339531Z"
    },
    "code_folding": [],
    "hidden": true
   },
   "outputs": [
    {
     "name": "stdout",
     "output_type": "stream",
     "text": [
      "Training MAPE = 3.5017%\n"
     ]
    }
   ],
   "source": [
    "# Model more interactions\n",
    "ols, ols_train_preds = model(fit_df=train,\n",
    "                   pred_df=train,\n",
    "                   formula='mw ~ temp*C(hour) + temp2*C(hour) + temp*C(month) + temp2*C(month) + C(weekday)*C(hour)')\n",
    "mape = scoring(ols_train_preds, train.mw)\n",
    "\n",
    "print(f'Training MAPE = {mape}%')"
   ]
  },
  {
   "cell_type": "markdown",
   "metadata": {
    "heading_collapsed": true,
    "hidden": true
   },
   "source": [
    "###### 8. “Forecast” out your model by scoring your test data set with the linear regression you built. "
   ]
  },
  {
   "cell_type": "code",
   "execution_count": 71,
   "metadata": {
    "ExecuteTime": {
     "end_time": "2021-01-22T14:58:22.097242Z",
     "start_time": "2021-01-22T14:58:20.666075Z"
    },
    "code_folding": [],
    "hidden": true
   },
   "outputs": [
    {
     "data": {
      "image/png": "[encoded data removed]",
      "text/plain": [
       "<Figure size 432x288 with 1 Axes>"
      ]
     },
     "metadata": {
      "needs_background": "light"
     },
     "output_type": "display_data"
    }
   ],
   "source": [
    "# Plot predicted vs. actual\n",
    "ols, ols_test_preds = model(fit_df=train,\n",
    "                   pred_df=test,\n",
    "                   formula='mw ~ temp*C(hour) + temp2*C(hour) + temp*C(month) + temp2*C(month) + C(weekday)*C(hour)')\n",
    "\n",
    "ols_test = pd.DataFrame()\n",
    "ols_test['test_mw'] = test.mw\n",
    "ols_test['test_preds'] = ols_test_preds\n",
    "\n",
    "plt.plot(ols_test.test_mw)\n",
    "plt.plot(ols_test.test_preds, 'g--')\n",
    "\n",
    "plt.xticks(rotation=34)\n",
    "plt.show();"
   ]
  },
  {
   "cell_type": "markdown",
   "metadata": {
    "heading_collapsed": true
   },
   "source": [
    "# Time Series"
   ]
  },
  {
   "cell_type": "markdown",
   "metadata": {
    "heading_collapsed": true,
    "hidden": true
   },
   "source": [
    "###### 1. Save the residuals from first model on training data set as their own variable. Will build time series model on these residuals\n",
    "\n",
    "###### 2. Visualize residuals across time in training data set."
   ]
  },
  {
   "cell_type": "code",
   "execution_count": 72,
   "metadata": {
    "ExecuteTime": {
     "end_time": "2021-01-22T14:58:28.351970Z",
     "start_time": "2021-01-22T14:58:26.846500Z"
    },
    "hidden": true
   },
   "outputs": [
    {
     "data": {
      "image/png": "[encoded data removed]",
      "text/plain": [
       "<Figure size 432x288 with 1 Axes>"
      ]
     },
     "metadata": {
      "needs_background": "light"
     },
     "output_type": "display_data"
    },
    {
     "data": {
      "image/png": "[encoded data removed]",
      "text/plain": [
       "<Figure size 432x288 with 1 Axes>"
      ]
     },
     "metadata": {
      "needs_background": "light"
     },
     "output_type": "display_data"
    }
   ],
   "source": [
    "# Fit model and obtaining training predictions\n",
    "ols, preds = model(fit_df=train,\n",
    "                   pred_df=train,\n",
    "                   formula='mw ~ temp*C(hour) + temp2*C(hour) + temp*C(month) + temp2*C(month) + C(weekday)*C(hour)')\n",
    "\n",
    "# Create residuals\n",
    "res = ols.resid\n",
    "\n",
    "# Plot residuals\n",
    "plt.plot(res)\n",
    "plt.title('Residuals: All time')\n",
    "plt.xticks(rotation=20)\n",
    "plt.show();\n",
    "\n",
    "plt.plot(preds['2019-12-01':'2019-12-08'])\n",
    "plt.title('Residuals: First week of december')\n",
    "plt.xticks(rotation=20)\n",
    "plt.show();"
   ]
  },
  {
   "cell_type": "markdown",
   "metadata": {
    "ExecuteTime": {
     "end_time": "2021-01-15T03:03:21.454152Z",
     "start_time": "2021-01-15T03:03:21.446327Z"
    },
    "heading_collapsed": true,
    "hidden": true
   },
   "source": [
    "###### 3. Build an Exponential Smoothing model on residuals that does not incorporate trend but does incorporate a 24-hour seasonal effect. Obtain predicted values of residuals on training data set from this model.\n",
    "Add these predicted residuals to predictions of energy usage from your linear regression to obtain new dynamic model’s energy predictions.<br>\n",
    "Calculate the training MAPE from these new predictions.<br>\n",
    "Forecast out the next 744 hours of residuals (the month of January 2020)."
   ]
  },
  {
   "cell_type": "code",
   "execution_count": 73,
   "metadata": {
    "ExecuteTime": {
     "end_time": "2021-01-22T14:58:33.860412Z",
     "start_time": "2021-01-22T14:58:33.844012Z"
    },
    "code_folding": [
     0
    ],
    "hidden": true
   },
   "outputs": [],
   "source": [
    "# Holt Tuning Function\n",
    "def tune_holt(smoothing_levels=None,\n",
    "              smoothing_slopes=None,\n",
    "              optimized=True):\n",
    "    \n",
    "    score_list = []\n",
    "    \n",
    "    for l in smoothing_levels:\n",
    "        for s in smoothing_slopes:\n",
    "            \n",
    "            # Fit model, get fitted values, add to original predictions, score\n",
    "            es = Holt(res).fit(smoothing_level=s, smoothing_slope=l, optimized=True)\n",
    "            es_fitted_values = es.fittedvalues\n",
    "            es_preds = preds + es_fitted_values\n",
    "            es_mape = scoring(es_preds, train.mw)\n",
    "            score_list.append([l, s, es_mape])\n",
    "            \n",
    "    scores = pd.DataFrame(score_list, columns=['Smoothing level', 'Smoothing slope', 'MAPE'])\n",
    "    \n",
    "    return scores\n"
   ]
  },
  {
   "cell_type": "code",
   "execution_count": 74,
   "metadata": {
    "ExecuteTime": {
     "end_time": "2021-01-22T14:58:40.303632Z",
     "start_time": "2021-01-22T14:58:34.221862Z"
    },
    "code_folding": [
     0
    ],
    "hidden": true
   },
   "outputs": [
    {
     "ename": "KeyboardInterrupt",
     "evalue": "",
     "output_type": "error",
     "traceback": [
      "\u001b[0;31m---------------------------------------------------------------------------\u001b[0m",
      "\u001b[0;31mKeyboardInterrupt\u001b[0m                         Traceback (most recent call last)",
      "\u001b[0;32m<ipython-input-74-79681328ecd8>\u001b[0m in \u001b[0;36m<module>\u001b[0;34m\u001b[0m\n\u001b[1;32m      2\u001b[0m hold = tune_holt(np.linspace(0.00001,0.0001, 20),\n\u001b[1;32m      3\u001b[0m                  \u001b[0mnp\u001b[0m\u001b[0;34m.\u001b[0m\u001b[0mlinspace\u001b[0m\u001b[0;34m(\u001b[0m\u001b[0;36m0.00001\u001b[0m\u001b[0;34m,\u001b[0m\u001b[0;36m0.0001\u001b[0m\u001b[0;34m,\u001b[0m \u001b[0;36m20\u001b[0m\u001b[0;34m)\u001b[0m\u001b[0;34m,\u001b[0m\u001b[0;34m\u001b[0m\u001b[0;34m\u001b[0m\u001b[0m\n\u001b[0;32m----> 4\u001b[0;31m                  optimized=True)\n\u001b[0m\u001b[1;32m      5\u001b[0m \u001b[0;34m\u001b[0m\u001b[0m\n\u001b[1;32m      6\u001b[0m \u001b[0mmin_mape\u001b[0m \u001b[0;34m=\u001b[0m \u001b[0mnp\u001b[0m\u001b[0;34m.\u001b[0m\u001b[0margmin\u001b[0m\u001b[0;34m(\u001b[0m\u001b[0mhold\u001b[0m\u001b[0;34m.\u001b[0m\u001b[0mMAPE\u001b[0m\u001b[0;34m)\u001b[0m\u001b[0;34m\u001b[0m\u001b[0;34m\u001b[0m\u001b[0m\n",
      "\u001b[0;32m<ipython-input-73-aaa0d6d067b9>\u001b[0m in \u001b[0;36mtune_holt\u001b[0;34m(smoothing_levels, smoothing_slopes, optimized)\u001b[0m\n\u001b[1;32m     10\u001b[0m \u001b[0;34m\u001b[0m\u001b[0m\n\u001b[1;32m     11\u001b[0m             \u001b[0;31m# Fit model, get fitted values, add to original predictions, score\u001b[0m\u001b[0;34m\u001b[0m\u001b[0;34m\u001b[0m\u001b[0;34m\u001b[0m\u001b[0m\n\u001b[0;32m---> 12\u001b[0;31m             \u001b[0mes\u001b[0m \u001b[0;34m=\u001b[0m \u001b[0mHolt\u001b[0m\u001b[0;34m(\u001b[0m\u001b[0mres\u001b[0m\u001b[0;34m)\u001b[0m\u001b[0;34m.\u001b[0m\u001b[0mfit\u001b[0m\u001b[0;34m(\u001b[0m\u001b[0msmoothing_level\u001b[0m\u001b[0;34m=\u001b[0m\u001b[0ms\u001b[0m\u001b[0;34m,\u001b[0m \u001b[0msmoothing_slope\u001b[0m\u001b[0;34m=\u001b[0m\u001b[0ml\u001b[0m\u001b[0;34m,\u001b[0m \u001b[0moptimized\u001b[0m\u001b[0;34m=\u001b[0m\u001b[0;32mTrue\u001b[0m\u001b[0;34m)\u001b[0m\u001b[0;34m\u001b[0m\u001b[0;34m\u001b[0m\u001b[0m\n\u001b[0m\u001b[1;32m     13\u001b[0m             \u001b[0mes_fitted_values\u001b[0m \u001b[0;34m=\u001b[0m \u001b[0mes\u001b[0m\u001b[0;34m.\u001b[0m\u001b[0mfittedvalues\u001b[0m\u001b[0;34m\u001b[0m\u001b[0;34m\u001b[0m\u001b[0m\n\u001b[1;32m     14\u001b[0m             \u001b[0mes_preds\u001b[0m \u001b[0;34m=\u001b[0m \u001b[0mpreds\u001b[0m \u001b[0;34m+\u001b[0m \u001b[0mes_fitted_values\u001b[0m\u001b[0;34m\u001b[0m\u001b[0;34m\u001b[0m\u001b[0m\n",
      "\u001b[0;32m~/opt/anaconda3/lib/python3.7/site-packages/statsmodels/tsa/holtwinters.py\u001b[0m in \u001b[0;36mfit\u001b[0;34m(self, smoothing_level, smoothing_slope, damping_slope, optimized, start_params, initial_level, initial_slope, use_brute)\u001b[0m\n\u001b[1;32m   1167\u001b[0m                                      \u001b[0msmoothing_slope\u001b[0m\u001b[0;34m=\u001b[0m\u001b[0msmoothing_slope\u001b[0m\u001b[0;34m,\u001b[0m \u001b[0mdamping_slope\u001b[0m\u001b[0;34m=\u001b[0m\u001b[0mdamping_slope\u001b[0m\u001b[0;34m,\u001b[0m\u001b[0;34m\u001b[0m\u001b[0;34m\u001b[0m\u001b[0m\n\u001b[1;32m   1168\u001b[0m                                      \u001b[0moptimized\u001b[0m\u001b[0;34m=\u001b[0m\u001b[0moptimized\u001b[0m\u001b[0;34m,\u001b[0m \u001b[0mstart_params\u001b[0m\u001b[0;34m=\u001b[0m\u001b[0mstart_params\u001b[0m\u001b[0;34m,\u001b[0m\u001b[0;34m\u001b[0m\u001b[0;34m\u001b[0m\u001b[0m\n\u001b[0;32m-> 1169\u001b[0;31m                                      initial_level=initial_level, initial_slope=initial_slope, use_brute=use_brute)\n\u001b[0m",
      "\u001b[0;32m~/opt/anaconda3/lib/python3.7/site-packages/statsmodels/tsa/holtwinters.py\u001b[0m in \u001b[0;36mfit\u001b[0;34m(self, smoothing_level, smoothing_slope, smoothing_seasonal, damping_slope, optimized, use_boxcox, remove_bias, use_basinhopping, start_params, initial_level, initial_slope, use_brute)\u001b[0m\n\u001b[1;32m    758\u001b[0m                               \u001b[0msmoothing_seasonal\u001b[0m\u001b[0;34m=\u001b[0m\u001b[0mgamma\u001b[0m\u001b[0;34m,\u001b[0m \u001b[0mdamping_slope\u001b[0m\u001b[0;34m=\u001b[0m\u001b[0mphi\u001b[0m\u001b[0;34m,\u001b[0m\u001b[0;34m\u001b[0m\u001b[0;34m\u001b[0m\u001b[0m\n\u001b[1;32m    759\u001b[0m                               \u001b[0minitial_level\u001b[0m\u001b[0;34m=\u001b[0m\u001b[0ml0\u001b[0m\u001b[0;34m,\u001b[0m \u001b[0minitial_slope\u001b[0m\u001b[0;34m=\u001b[0m\u001b[0mb0\u001b[0m\u001b[0;34m,\u001b[0m \u001b[0minitial_seasons\u001b[0m\u001b[0;34m=\u001b[0m\u001b[0ms0\u001b[0m\u001b[0;34m,\u001b[0m\u001b[0;34m\u001b[0m\u001b[0;34m\u001b[0m\u001b[0m\n\u001b[0;32m--> 760\u001b[0;31m                               use_boxcox=use_boxcox, remove_bias=remove_bias, is_optimized=xi)\n\u001b[0m\u001b[1;32m    761\u001b[0m         \u001b[0mhwfit\u001b[0m\u001b[0;34m.\u001b[0m\u001b[0m_results\u001b[0m\u001b[0;34m.\u001b[0m\u001b[0mmle_retvals\u001b[0m \u001b[0;34m=\u001b[0m \u001b[0mopt\u001b[0m\u001b[0;34m\u001b[0m\u001b[0;34m\u001b[0m\u001b[0m\n\u001b[1;32m    762\u001b[0m         \u001b[0;32mreturn\u001b[0m \u001b[0mhwfit\u001b[0m\u001b[0;34m\u001b[0m\u001b[0;34m\u001b[0m\u001b[0m\n",
      "\u001b[0;32m~/opt/anaconda3/lib/python3.7/site-packages/statsmodels/tsa/holtwinters.py\u001b[0m in \u001b[0;36m_predict\u001b[0;34m(self, h, smoothing_level, smoothing_slope, smoothing_seasonal, initial_level, initial_slope, damping_slope, initial_seasons, use_boxcox, lamda, remove_bias, is_optimized)\u001b[0m\n\u001b[1;32m    932\u001b[0m                        \u001b[0;34m(\u001b[0m\u001b[0malphac\u001b[0m \u001b[0;34m*\u001b[0m \u001b[0mtrended\u001b[0m\u001b[0;34m(\u001b[0m\u001b[0mlvls\u001b[0m\u001b[0;34m[\u001b[0m\u001b[0mi\u001b[0m \u001b[0;34m-\u001b[0m \u001b[0;36m1\u001b[0m\u001b[0;34m]\u001b[0m\u001b[0;34m,\u001b[0m \u001b[0mdampen\u001b[0m\u001b[0;34m(\u001b[0m\u001b[0mb\u001b[0m\u001b[0;34m[\u001b[0m\u001b[0mi\u001b[0m \u001b[0;34m-\u001b[0m \u001b[0;36m1\u001b[0m\u001b[0;34m]\u001b[0m\u001b[0;34m,\u001b[0m \u001b[0mphi\u001b[0m\u001b[0;34m)\u001b[0m\u001b[0;34m)\u001b[0m\u001b[0;34m)\u001b[0m\u001b[0;34m\u001b[0m\u001b[0;34m\u001b[0m\u001b[0m\n\u001b[1;32m    933\u001b[0m                 \u001b[0;32mif\u001b[0m \u001b[0mtrending\u001b[0m\u001b[0;34m:\u001b[0m\u001b[0;34m\u001b[0m\u001b[0;34m\u001b[0m\u001b[0m\n\u001b[0;32m--> 934\u001b[0;31m                     \u001b[0mb\u001b[0m\u001b[0;34m[\u001b[0m\u001b[0mi\u001b[0m\u001b[0;34m]\u001b[0m \u001b[0;34m=\u001b[0m \u001b[0;34m(\u001b[0m\u001b[0mbeta\u001b[0m \u001b[0;34m*\u001b[0m \u001b[0mdetrend\u001b[0m\u001b[0;34m(\u001b[0m\u001b[0mlvls\u001b[0m\u001b[0;34m[\u001b[0m\u001b[0mi\u001b[0m\u001b[0;34m]\u001b[0m\u001b[0;34m,\u001b[0m \u001b[0mlvls\u001b[0m\u001b[0;34m[\u001b[0m\u001b[0mi\u001b[0m \u001b[0;34m-\u001b[0m \u001b[0;36m1\u001b[0m\u001b[0;34m]\u001b[0m\u001b[0;34m)\u001b[0m\u001b[0;34m)\u001b[0m \u001b[0;34m+\u001b[0m\u001b[0;31m \u001b[0m\u001b[0;31m\\\u001b[0m\u001b[0;34m\u001b[0m\u001b[0;34m\u001b[0m\u001b[0m\n\u001b[0m\u001b[1;32m    935\u001b[0m                            \u001b[0;34m(\u001b[0m\u001b[0mbetac\u001b[0m \u001b[0;34m*\u001b[0m \u001b[0mdampen\u001b[0m\u001b[0;34m(\u001b[0m\u001b[0mb\u001b[0m\u001b[0;34m[\u001b[0m\u001b[0mi\u001b[0m \u001b[0;34m-\u001b[0m \u001b[0;36m1\u001b[0m\u001b[0;34m]\u001b[0m\u001b[0;34m,\u001b[0m \u001b[0mphi\u001b[0m\u001b[0;34m)\u001b[0m\u001b[0;34m)\u001b[0m\u001b[0;34m\u001b[0m\u001b[0;34m\u001b[0m\u001b[0m\n\u001b[1;32m    936\u001b[0m             \u001b[0mslope\u001b[0m \u001b[0;34m=\u001b[0m \u001b[0mb\u001b[0m\u001b[0;34m[\u001b[0m\u001b[0;36m1\u001b[0m\u001b[0;34m:\u001b[0m\u001b[0mnobs\u001b[0m \u001b[0;34m+\u001b[0m \u001b[0;36m1\u001b[0m\u001b[0;34m]\u001b[0m\u001b[0;34m.\u001b[0m\u001b[0mcopy\u001b[0m\u001b[0;34m(\u001b[0m\u001b[0;34m)\u001b[0m\u001b[0;34m\u001b[0m\u001b[0;34m\u001b[0m\u001b[0m\n",
      "\u001b[0;31mKeyboardInterrupt\u001b[0m: "
     ]
    }
   ],
   "source": [
    "# Tune Exponential Smoothing Model\n",
    "hold = tune_holt(np.linspace(0.00001,0.0001, 20),\n",
    "                 np.linspace(0.00001,0.0001, 20),\n",
    "                 optimized=True)\n",
    "\n",
    "min_mape = np.argmin(hold.MAPE)\n",
    "opt_s = hold['Smoothing slope'][min_mape]\n",
    "opt_l = hold['Smoothing level'][min_mape]\n",
    "holt = Holt(res).fit(smoothing_level=opt_s, smoothing_slope=opt_l, optimized=True)\n",
    "\n",
    "# Get new train predictions\n",
    "holt_preds = preds + holt.fittedvalues\n",
    "holt_mape = scoring(holt_preds, train.mw)\n",
    "print(f'Train Holt MAPE: {holt_mape}%')\n",
    "\n",
    "# Get new test predictions\n",
    "holt_fcst = holt.forecast(744)\n",
    "holt_fcst.index = test.index\n",
    "holt_test_preds = ols_test.test_preds + holt_fcst\n",
    "scoring(test.mw, holt_test_preds)"
   ]
  },
  {
   "cell_type": "code",
   "execution_count": 75,
   "metadata": {
    "ExecuteTime": {
     "end_time": "2021-01-22T14:58:44.010458Z",
     "start_time": "2021-01-22T14:58:43.722873Z"
    },
    "code_folding": [],
    "hidden": true
   },
   "outputs": [
    {
     "name": "stdout",
     "output_type": "stream",
     "text": [
      "Train ES MAPE: 1.4963%\n",
      "Test ES MAPE: 5.5003%\n"
     ]
    }
   ],
   "source": [
    "# Exponential esing with season effects\n",
    "es = ExponentialSmoothing(res, seasonal_periods=24, seasonal='add', trend=None).fit()\n",
    "\n",
    "es_fits = es.fittedvalues\n",
    "es_preds = ols_train_preds + es_fits\n",
    "es_mape = scoring(train.mw, es_preds)\n",
    "print(f'Train ES MAPE: {es_mape}%')\n",
    "\n",
    "# Forecast next 744 hours of residuals tog et new 01/2020 preds\n",
    "es_fcst = es.forecast(744)\n",
    "es_fcst.index = ols_test.index\n",
    "es_test_fcst = ols_test.test_preds + es_fcst\n",
    "es_test_mape = scoring(test.mw, es_test_fcst)\n",
    "print(f'Test ES MAPE: {es_test_mape}%')"
   ]
  },
  {
   "cell_type": "markdown",
   "metadata": {
    "ExecuteTime": {
     "end_time": "2021-01-15T16:52:46.410750Z",
     "start_time": "2021-01-15T16:52:46.397717Z"
    },
    "heading_collapsed": true,
    "hidden": true
   },
   "source": [
    "###### 4. Build a seasonal ARIMA model on the residuals that doesn’t incorporate trend but does incorporate a 24-hour seasonal effect.\n",
    "\n",
    "Starting with two autoregressive terms, one seasonal difference, and one seasonal moving average term (ARIMA(2,0,0)(0,1,1)24)"
   ]
  },
  {
   "cell_type": "code",
   "execution_count": 76,
   "metadata": {
    "ExecuteTime": {
     "end_time": "2021-01-22T15:01:10.659120Z",
     "start_time": "2021-01-22T14:58:53.679669Z"
    },
    "code_folding": [],
    "hidden": true
   },
   "outputs": [],
   "source": [
    "# Fit SARIMA\n",
    "sarima_mod = SARIMAX(res, order=(2,0,0), seasonal_order=(0,1,1,24))\n",
    "sarima = sarima_mod.fit(disp=False)"
   ]
  },
  {
   "cell_type": "code",
   "execution_count": 77,
   "metadata": {
    "ExecuteTime": {
     "end_time": "2021-01-22T15:01:11.125609Z",
     "start_time": "2021-01-22T15:01:10.725798Z"
    },
    "code_folding": [
     0
    ],
    "hidden": true
   },
   "outputs": [
    {
     "name": "stdout",
     "output_type": "stream",
     "text": [
      "Training SARIMA MAPE: 1.3726%\n",
      "Test SARIMA MAPE: 5.5554%\n"
     ]
    }
   ],
   "source": [
    "# Get SARIMA predictions\n",
    "sarima_preds = sarima.predict(start=pd.to_datetime(min(train.index)),\n",
    "                              end=pd.to_datetime(max(train.index)), \n",
    "                              dynamic=False)\n",
    "\n",
    "# Get new train preds and score\n",
    "sarima_tr_preds = ols_train_preds + sarima_preds\n",
    "sarima_tr_mape = scoring(sarima_tr_preds, train.mw)\n",
    "print(f'Training SARIMA MAPE: {sarima_tr_mape}%')\n",
    "\n",
    "# Forecast\n",
    "sarima_fcst = sarima.forecast(744)\n",
    "sarima_fcst.index = ols_test.index\n",
    "sarima_te_preds = ols_test.test_preds + sarima_fcst\n",
    "sarima_test_mape = scoring(test.mw, sarima_te_preds)\n",
    "print(f'Test SARIMA MAPE: {sarima_test_mape}%')"
   ]
  },
  {
   "cell_type": "markdown",
   "metadata": {
    "heading_collapsed": true,
    "hidden": true
   },
   "source": [
    "###### 5. Ensemble your two residual forecasts from above to obtain a new residual forecast."
   ]
  },
  {
   "cell_type": "code",
   "execution_count": 78,
   "metadata": {
    "ExecuteTime": {
     "end_time": "2021-01-22T15:01:11.202217Z",
     "start_time": "2021-01-22T15:01:11.128864Z"
    },
    "hidden": true
   },
   "outputs": [
    {
     "name": "stdout",
     "output_type": "stream",
     "text": [
      "Training Ensemble MAPE: 1.3861%\n",
      "Test Ensemble MAPE: 5.4973%\n"
     ]
    }
   ],
   "source": [
    "# Ensemble residual predictions, add to ols preds, and score\n",
    "ens_res = (es_fits + sarima_preds)/2\n",
    "ens_tr_pred = ols_train_preds + ens_res\n",
    "ens_tr_mape = scoring(train.mw, ens_tr_pred)\n",
    "print(f'Training Ensemble MAPE: {ens_tr_mape}%')\n",
    "\n",
    "# Ensemble forecasts, add to ols forecast, and score\n",
    "ens_fcst = (es_fcst + sarima_fcst)/2\n",
    "ens_te_pred = ols_test.test_preds + ens_fcst\n",
    "ens_te_mape = scoring(test.mw, ens_te_pred)\n",
    "print(f'Test Ensemble MAPE: {ens_te_mape}%')"
   ]
  },
  {
   "cell_type": "markdown",
   "metadata": {},
   "source": [
    "# Nuances"
   ]
  },
  {
   "cell_type": "markdown",
   "metadata": {
    "heading_collapsed": true
   },
   "source": [
    "###### 1. Plot predicted energy usage as well as the actual energy usage for December 25, 2019."
   ]
  },
  {
   "cell_type": "code",
   "execution_count": 87,
   "metadata": {
    "ExecuteTime": {
     "end_time": "2021-01-23T15:48:56.228899Z",
     "start_time": "2021-01-23T15:48:56.067730Z"
    },
    "hidden": true
   },
   "outputs": [
    {
     "name": "stdout",
     "output_type": "stream",
     "text": [
      "Dec. 25th train MAPE: 1.8378%\n"
     ]
    },
    {
     "data": {
      "image/png": "[encoded data removed]",
      "text/plain": [
       "<Figure size 432x288 with 1 Axes>"
      ]
     },
     "metadata": {
      "needs_background": "light"
     },
     "output_type": "display_data"
    }
   ],
   "source": [
    "# Investigate Dec. 25th\n",
    "dec_25_mape = scoring(train.mw['2019-12-25'], ens_tr_pred['2019-12-25'])\n",
    "print(f'Dec. 25th train MAPE: {dec_25_mape}%')\n",
    "\n",
    "plt.plot(train.mw['2019-12-25']);\n",
    "plt.plot(ens_tr_pred['2019-12-25']);\n",
    "plt.xticks(rotation=20);\n",
    "plt.show();"
   ]
  },
  {
   "cell_type": "markdown",
   "metadata": {
    "heading_collapsed": true
   },
   "source": [
    "###### 2. Create a holiday variable in training and test set that flags US federal holidays."
   ]
  },
  {
   "cell_type": "code",
   "execution_count": 80,
   "metadata": {
    "ExecuteTime": {
     "end_time": "2021-01-22T15:01:11.554524Z",
     "start_time": "2021-01-22T15:01:11.539528Z"
    },
    "code_folding": [],
    "hidden": true
   },
   "outputs": [],
   "source": [
    "# FUNCTION: Add holiday indicators\n",
    "def add_holiday_ind(df,\n",
    "                    date_col=None,\n",
    "                    use_index=True):\n",
    "    \n",
    "    df_new = df.copy()\n",
    "    \n",
    "    cal = calendar()\n",
    "    if use_index:\n",
    "        holidays = cal.holidays(start=df_new.index.min(), end=df_new.index.max()).strftime('%Y-%m-%d')\n",
    "        df_new['holiday'] = df_new.index.strftime('%Y-%m-%d').isin(holidays)\n",
    "    else:\n",
    "        holidays = cal.holidays(start=df_new[date_col].min(), end=df_new[date_col].max()).strftime('%Y-%m-%d')\n",
    "        df_new['holiday'] = df_new[date_col].strftime('%Y-%m-%d').isin(holidays)\n",
    "        \n",
    "    return df_new"
   ]
  },
  {
   "cell_type": "code",
   "execution_count": 167,
   "metadata": {
    "ExecuteTime": {
     "end_time": "2021-01-23T16:27:44.570261Z",
     "start_time": "2021-01-23T16:27:44.345309Z"
    },
    "hidden": true
   },
   "outputs": [],
   "source": [
    "# Add holiday indicators\n",
    "train = add_holiday_ind(train)\n",
    "test = add_holiday_ind(test)\n",
    "ft = add_holiday_ind(ft)"
   ]
  },
  {
   "cell_type": "markdown",
   "metadata": {
    "heading_collapsed": true
   },
   "source": [
    "###### 3. Repeat the process of the previous sections by creating a linear regression model, but with this new holiday variable added in as an additional predictor."
   ]
  },
  {
   "cell_type": "code",
   "execution_count": 95,
   "metadata": {
    "ExecuteTime": {
     "end_time": "2021-01-23T15:53:49.890676Z",
     "start_time": "2021-01-23T15:53:48.341208Z"
    },
    "code_folding": [],
    "hidden": true
   },
   "outputs": [
    {
     "data": {
      "image/png": "[encoded data removed]",
      "text/plain": [
       "<Figure size 432x288 with 1 Axes>"
      ]
     },
     "metadata": {
      "needs_background": "light"
     },
     "output_type": "display_data"
    },
    {
     "data": {
      "image/png": "[encoded data removed]",
      "text/plain": [
       "<Figure size 432x288 with 1 Axes>"
      ]
     },
     "metadata": {
      "needs_background": "light"
     },
     "output_type": "display_data"
    }
   ],
   "source": [
    "# Fit model and obtaining training predictions\n",
    "ols, ols_tr_preds = model(fit_df=train,\n",
    "                          pred_df=train,\n",
    "                          formula='mw ~ temp*C(hour) + temp2*C(hour) + temp*C(month) + temp2*C(month) + C(weekday)*C(hour) + C(holiday)')\n",
    "\n",
    "# Create residuals\n",
    "res = ols.resid\n",
    "\n",
    "# Plot residuals\n",
    "plt.plot(res)\n",
    "plt.title('Residuals: All time')\n",
    "plt.xticks(rotation=20)\n",
    "plt.show();\n",
    "\n",
    "plt.plot(ols_tr_preds['2019-12-01':'2019-12-08'])\n",
    "plt.title('Residuals: First week of december')\n",
    "plt.xticks(rotation=20)\n",
    "plt.show();"
   ]
  },
  {
   "cell_type": "code",
   "execution_count": 92,
   "metadata": {
    "ExecuteTime": {
     "end_time": "2021-01-23T15:53:04.780614Z",
     "start_time": "2021-01-23T15:53:04.395465Z"
    },
    "hidden": true
   },
   "outputs": [
    {
     "name": "stdout",
     "output_type": "stream",
     "text": [
      "Train ES MAPE: 1.5819%\n",
      "Test ES MAPE: 5.6657%\n"
     ]
    }
   ],
   "source": [
    "######--- Exponential smoothing with seasonal effects ---######\n",
    "es = ExponentialSmoothing(res, seasonal_periods=24, seasonal='add', trend=None).fit()\n",
    "es_fits = es.fittedvalues\n",
    "es_preds = ols_train_preds + es_fits\n",
    "es_mape = scoring(train.mw, es_preds)\n",
    "print(f'Train ES MAPE: {es_mape}%')\n",
    "\n",
    "# Forecast next 744 hours of residuals tog et new 01/2020 preds\n",
    "es_fcst = es.forecast(744)\n",
    "es_fcst.index = ols_test.index\n",
    "es_test_fcst = ols_test.test_preds + es_fcst\n",
    "es_test_mape = scoring(test.mw, es_test_fcst)\n",
    "print(f'Test ES MAPE: {es_test_mape}%')"
   ]
  },
  {
   "cell_type": "code",
   "execution_count": 84,
   "metadata": {
    "ExecuteTime": {
     "end_time": "2021-01-22T15:03:21.945188Z",
     "start_time": "2021-01-22T15:01:14.469672Z"
    },
    "hidden": true
   },
   "outputs": [
    {
     "name": "stdout",
     "output_type": "stream",
     "text": [
      "Training SARIMA MAPE: 1.4715%\n",
      "Test SARIMA MAPE: 5.4712%\n"
     ]
    }
   ],
   "source": [
    "######--- Fit SARIMA ---######\n",
    "sarima_mod = SARIMAX(res, order=(2,0,0), seasonal_order=(0,1,1,24))\n",
    "sarima = sarima_mod.fit(disp=False)\n",
    "\n",
    "# Get SARIMA predictions\n",
    "sarima_preds = sarima.predict(start=pd.to_datetime(min(train.index)),\n",
    "                              end=pd.to_datetime(max(train.index)), \n",
    "                              dynamic=False)\n",
    "\n",
    "# Get new train preds and score\n",
    "sarima_tr_preds = ols_train_preds + sarima_preds\n",
    "sarima_tr_mape = scoring(sarima_tr_preds, train.mw)\n",
    "print(f'Training SARIMA MAPE: {sarima_tr_mape}%')\n",
    "\n",
    "# Forecast\n",
    "sarima_fcst = sarima.forecast(744)\n",
    "sarima_fcst.index = ols_test.index\n",
    "sarima_te_preds = ols_test.test_preds + sarima_fcst\n",
    "sarima_test_mape = scoring(test.mw, sarima_te_preds)\n",
    "print(f'Test SARIMA MAPE: {sarima_test_mape}%')"
   ]
  },
  {
   "cell_type": "code",
   "execution_count": 100,
   "metadata": {
    "ExecuteTime": {
     "end_time": "2021-01-23T15:56:03.035152Z",
     "start_time": "2021-01-23T15:56:03.024232Z"
    },
    "hidden": true
   },
   "outputs": [
    {
     "name": "stdout",
     "output_type": "stream",
     "text": [
      "Training Ensemble MAPE: 1.3922%\n",
      "Test Ensemble MAPE: 5.5365%\n"
     ]
    }
   ],
   "source": [
    "# Ensemble residual predictions, add to ols preds, and score\n",
    "ens_res = (es_fits + sarima_preds)/2\n",
    "ens_tr_pred = ols_tr_preds + ens_res\n",
    "ens_tr_mape = scoring(train.mw, ens_tr_pred)\n",
    "print(f'Training Ensemble MAPE: {ens_tr_mape}%')\n",
    "\n",
    "# Ensemble forecasts, add to ols forecast, and score\n",
    "ens_fcst = (es_fcst + sarima_fcst)/2\n",
    "ens_te_pred = ols_test.test_preds + ens_fcst\n",
    "ens_te_mape = scoring(test.mw, ens_te_pred)\n",
    "print(f'Test Ensemble MAPE: {ens_te_mape}%')"
   ]
  },
  {
   "cell_type": "markdown",
   "metadata": {
    "heading_collapsed": true
   },
   "source": [
    "###### 4. Recreate previous plot but add a third line: your new forecasted energy usage for December 25, 2019, from your final holiday effects model."
   ]
  },
  {
   "cell_type": "code",
   "execution_count": 103,
   "metadata": {
    "ExecuteTime": {
     "end_time": "2021-01-23T15:56:31.816100Z",
     "start_time": "2021-01-23T15:56:31.660725Z"
    },
    "hidden": true
   },
   "outputs": [
    {
     "name": "stdout",
     "output_type": "stream",
     "text": [
      "Dec. 25th train MAPE: 1.9383%\n"
     ]
    },
    {
     "data": {
      "image/png": "[encoded data removed]",
      "text/plain": [
       "<Figure size 432x288 with 1 Axes>"
      ]
     },
     "metadata": {
      "needs_background": "light"
     },
     "output_type": "display_data"
    }
   ],
   "source": [
    "# Investigate Dec. 25th\n",
    "dec_25_mape = scoring(train.mw['2019-12-25'], ens_tr_pred['2019-12-25'])\n",
    "print(f'Dec. 25th train MAPE: {dec_25_mape}%')\n",
    "\n",
    "plt.plot(train.mw['2019-12-25']);\n",
    "plt.plot(ens_tr_pred['2019-12-25']);\n",
    "plt.plot(sarima_tr_preds['2019-12-25']);\n",
    "plt.xticks(rotation=20);\n",
    "plt.show();"
   ]
  },
  {
   "cell_type": "markdown",
   "metadata": {
    "heading_collapsed": true
   },
   "source": [
    "###### 5. Choose a final model from training MAPE of previous models."
   ]
  },
  {
   "cell_type": "code",
   "execution_count": 104,
   "metadata": {
    "ExecuteTime": {
     "end_time": "2021-01-23T15:57:17.217974Z",
     "start_time": "2021-01-23T15:57:17.207056Z"
    },
    "hidden": true
   },
   "outputs": [
    {
     "name": "stdout",
     "output_type": "stream",
     "text": [
      "Test Ensemble MAPE: 5.5365%\n"
     ]
    }
   ],
   "source": [
    "# Ensemble forecasts, add to ols forecast, and score\n",
    "ens_fcst = (es_fcst + sarima_fcst)/2\n",
    "ens_te_pred = ols_test.test_preds + ens_fcst\n",
    "ens_te_mape = scoring(test.mw, ens_te_pred)\n",
    "print(f'Test Ensemble MAPE: {ens_te_mape}%')"
   ]
  },
  {
   "cell_type": "markdown",
   "metadata": {},
   "source": [
    "###### 6. Now that we have a final model, refit this final model on entire data set (training and testing combined)."
   ]
  },
  {
   "cell_type": "code",
   "execution_count": 193,
   "metadata": {
    "ExecuteTime": {
     "end_time": "2021-01-23T16:53:18.644871Z",
     "start_time": "2021-01-23T16:53:17.291590Z"
    }
   },
   "outputs": [],
   "source": [
    "# TO CREATE ENSEMBLE, FIT OLS, ES, SARIMA ON ENTIRE DATA SET\n",
    "final_train = pd.concat([train, test])\n",
    "\n",
    "# OLS\n",
    "ols, ols_ft_preds = model(fit_df=final_train,\n",
    "                          pred_df=ft,\n",
    "                          formula='mw ~ temp*C(hour) + temp2*C(hour) + temp*C(month) + temp2*C(month) + C(weekday)*C(hour) + C(holiday)')\n",
    "res = ols.resid\n",
    "\n",
    "######----ES WITH SEASON----######\n",
    "es = ExponentialSmoothing(res, seasonal_periods=24, seasonal='add', trend=None).fit()\n",
    "es_fcst = es.forecast(696)\n",
    "es_fcst.index = ft.index\n",
    "\n",
    "\n",
    "# ######-------SARIMA-------######\n",
    "#sarima_mod = SARIMAX(res, order=(2,0,0), seasonal_order=(0,1,1,24))\n",
    "#sarima = sarima_mod.fit(disp=False)\n",
    "sarima_fcst = sarima.forecast(696)\n",
    "sarima_fcst.index = ft.index\n",
    "\n",
    "# ######------ENSEMBLE-----######\n",
    "ens_fcst = (es_fcst + sarima_fcst)/2\n",
    "ens_ft_preds = ols_ft_preds + ens_fcst"
   ]
  },
  {
   "cell_type": "code",
   "execution_count": 199,
   "metadata": {
    "ExecuteTime": {
     "end_time": "2021-01-23T16:54:01.516236Z",
     "start_time": "2021-01-23T16:54:01.347362Z"
    }
   },
   "outputs": [
    {
     "data": {
      "image/png": "[encoded data removed]",
      "text/plain": [
       "<Figure size 432x288 with 1 Axes>"
      ]
     },
     "metadata": {
      "needs_background": "light"
     },
     "output_type": "display_data"
    }
   ],
   "source": [
    "# View February forecast\n",
    "plt.plot(ens_ft_preds)\n",
    "plt.xticks(rotation=20)\n",
    "plt.title('02/2020 Forecast')\n",
    "plt.show();"
   ]
  }
 ],
 "metadata": {
  "kernelspec": {
   "display_name": "Python 3",
   "language": "python",
   "name": "python3"
  },
  "language_info": {
   "codemirror_mode": {
    "name": "ipython",
    "version": 3
   },
   "file_extension": ".py",
   "mimetype": "text/x-python",
   "name": "python",
   "nbconvert_exporter": "python",
   "pygments_lexer": "ipython3",
   "version": "3.7.6"
  }
 },
 "nbformat": 4,
 "nbformat_minor": 4
}
