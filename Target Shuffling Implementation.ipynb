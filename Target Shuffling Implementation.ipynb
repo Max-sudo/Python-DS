{
 "cells": [
  {
   "cell_type": "markdown",
   "metadata": {
    "heading_collapsed": true
   },
   "source": [
    "# Target Shuffling Implementation"
   ]
  },
  {
   "cell_type": "markdown",
   "metadata": {
    "hidden": true
   },
   "source": [
    "A novel implementation of methodologies described in the following paper:\n",
    "<br>\n",
    "###### Evaluate the Vailidity of Your Discovery with Target Shuffling (John Elder)\n",
    "###### https://www.elderresearch.com/wpcontent/uploads/2020/10/Whitepaper_Evaluate_the_Validity_of_Your_Discovery_with_Target_Shuffling.pdf\n",
    "<br>\n",
    "Briefly, the following steps will be performed:\n",
    "<br>\n",
    "<br>\n",
    "1) Build a model and record that model's performance metric and variable coefficients (if applicable)\n",
    "<br>\n",
    "2) \"Shuffle\" the target variable, thereby breaking any relationships between explanatory and target variables\n",
    "<br>\n",
    "3) Build a model on the \"broken\" data and record the broken model's performance metric and variable coefficients\n",
    "<br>\n",
    "4) Repeat steps 2 and 3 many times\n",
    "<br>\n",
    "5) Compare the original model's performance metric and coefficient values against the distribution of the broken model performance metrics and coefficient values"
   ]
  },
  {
   "cell_type": "markdown",
   "metadata": {
    "heading_collapsed": true
   },
   "source": [
    "# Imports"
   ]
  },
  {
   "cell_type": "code",
   "execution_count": 2,
   "metadata": {
    "ExecuteTime": {
     "end_time": "2021-02-07T19:41:02.099188Z",
     "start_time": "2021-02-07T19:41:01.620996Z"
    },
    "hidden": true
   },
   "outputs": [],
   "source": [
    "import pandas as pd\n",
    "import numpy as np\n",
    "from dfply import *\n",
    "from IPython.display import clear_output\n",
    "from sklearn.model_selection import train_test_split as tts\n",
    "from sklearn.linear_model import LogisticRegression\n",
    "from sklearn.ensemble import RandomForestClassifier\n",
    "from sklearn.metrics import roc_auc_score\n",
    "#import xgboost as xgb\n",
    "import random\n",
    "\n",
    "from IPython.core.interactiveshell import InteractiveShell\n",
    "InteractiveShell.ast_node_interactivity = \"all\"\n",
    "#InteractiveShell.ast_node_interactivity = \"last_expr\"\n",
    "\n",
    "from IPython.display import clear_output\n",
    "\n",
    "import matplotlib.pyplot as plt\n",
    "%matplotlib inline"
   ]
  },
  {
   "cell_type": "markdown",
   "metadata": {
    "heading_collapsed": true
   },
   "source": [
    "# Read data"
   ]
  },
  {
   "cell_type": "code",
   "execution_count": 111,
   "metadata": {
    "ExecuteTime": {
     "end_time": "2021-02-07T20:18:59.839275Z",
     "start_time": "2021-02-07T20:18:57.711642Z"
    },
    "hidden": true
   },
   "outputs": [],
   "source": [
    "cc = pd.read_csv(\"/Users/mfairb/Documents/ML Projects/Project - Anamoly Detection/creditcard.csv\")\n",
    "\n",
    "cc = cc >> \\\n",
    "     drop('Time') >> \\\n",
    "     select('Class', 'Amount', everything())\n",
    "\n",
    "cc = cc.iloc[:,0:7]\n",
    "\n",
    "X = cc >> drop('Class')\n",
    "y = cc >> select('Class')\n",
    "\n",
    "X_train, X_test, y_train, y_test = tts(X, y, test_size = 0.2, random_state = 273)"
   ]
  },
  {
   "cell_type": "markdown",
   "metadata": {},
   "source": [
    "# Target Shuffling"
   ]
  },
  {
   "cell_type": "code",
   "execution_count": 103,
   "metadata": {
    "ExecuteTime": {
     "end_time": "2021-02-07T20:16:28.656310Z",
     "start_time": "2021-02-07T20:16:28.646733Z"
    }
   },
   "outputs": [],
   "source": [
    "def target_shuffle(X_train, X_valid, y_train, y_valid, target, n):\n",
    "    \n",
    "    \"\"\"\n",
    "    ○ X_train: df of training set predictors\n",
    "    ○ X_valid: df of validation set predictos\n",
    "    ○ y_train: df of training set labels\n",
    "    ○ y_valid: df of validation set labels\n",
    "    ○ target: name of target variable (string)\n",
    "    ○ n: number of shuffling iterations\n",
    "    \"\"\"\n",
    "        \n",
    "    # Create empty data frame\n",
    "    coefs = pd.DataFrame()\n",
    "    #acc = list()\n",
    "    \n",
    "    # Create n models and save coefficients\n",
    "    for i in range(1, (n+1)):\n",
    "        \n",
    "            # Set seed\n",
    "            random.seed(i)\n",
    "            \n",
    "            # Create shuffled version of y\n",
    "            y_shuffled = y_train.sample(len(y_train), replace = False)\n",
    "    \n",
    "            # Create shuffled logistic, get predictions, and score\n",
    "            temp_log = LogisticRegression().fit(X_train, y_shuffled.values.ravel())\n",
    "            temp_preds = temp_log.predict_proba(X_valid)[:,1]\n",
    "            temp_score = roc_auc_score(y_valid, temp_preds)\n",
    "\n",
    "            # Get coefficients from temp_log\n",
    "            coefs = coefs.append( list([np.append(temp_score, temp_log.coef_[0])]) )\n",
    "            \n",
    "            # Progress\n",
    "            if i % 20 == 0:\n",
    "                print(str(i) + \" rounds completed\")\n",
    "    \n",
    "    # Add column names to shuffle\n",
    "    X_cols = list(X_train.columns)\n",
    "    X_cols.insert(0, \"AUC\")\n",
    "    coefs.columns = X_cols\n",
    "    \n",
    "    return(coefs)"
   ]
  },
  {
   "cell_type": "markdown",
   "metadata": {},
   "source": [
    "###### Create model and then perform target shuffling"
   ]
  },
  {
   "cell_type": "code",
   "execution_count": null,
   "metadata": {
    "ExecuteTime": {
     "end_time": "2021-02-07T20:14:24.220468Z",
     "start_time": "2021-02-07T20:14:12.434004Z"
    }
   },
   "outputs": [],
   "source": [
    "# Logistic regression\n",
    "log = LogisticRegression().fit(X_train, y_train.values.ravel())\n",
    "log_preds = log.predict_proba(X_test)[:,1]\n",
    "log_auc = roc_auc_score(y_test, log_preds)\n",
    "\n",
    "\n",
    "coefs = target_shuffle(X_train = X_train, \n",
    "                            y_train = y_train, \n",
    "                            X_valid = X_test, \n",
    "                            y_valid = y_test, \n",
    "                            target = 'Class', \n",
    "                            n = 1000)"
   ]
  },
  {
   "cell_type": "markdown",
   "metadata": {},
   "source": [
    "###### Plot distributions"
   ]
  },
  {
   "cell_type": "code",
   "execution_count": 106,
   "metadata": {
    "ExecuteTime": {
     "end_time": "2021-02-07T20:16:51.709926Z",
     "start_time": "2021-02-07T20:16:51.701565Z"
    }
   },
   "outputs": [],
   "source": [
    "def plot_shuffles(coefs,\n",
    "                  plot=['acc', 'coefs']):\n",
    "    \n",
    "    ###---Plot individual coefficients---###\n",
    "    if 'coefs' in plot:\n",
    "        # Include for plotting in for loops\n",
    "        from IPython.core.interactiveshell import InteractiveShell\n",
    "        InteractiveShell.ast_node_interactivity = \"last_expr\"\n",
    "        \n",
    "        log_coef_2 = list( [np.append(log_auc, log.coef_[0])] )\n",
    "        \n",
    "        for i in range(0, 7):\n",
    "            plt.hist(coefs.iloc[:,i], density=True, bins=30)  # `density=False` would make counts\n",
    "            plt.axvline(x = log_coef_2[0][i], c='red')\n",
    "            plt.title(coefs.columns[i])\n",
    "            plt.ylabel('Probability')\n",
    "            plt.xlabel('Data')\n",
    "            plt.show();"
   ]
  },
  {
   "cell_type": "code",
   "execution_count": 113,
   "metadata": {
    "ExecuteTime": {
     "end_time": "2021-02-07T20:22:58.851717Z",
     "start_time": "2021-02-07T20:22:57.673967Z"
    }
   },
   "outputs": [
    {
     "data": {
      "image/png": "[encoded data removed]",
      "text/plain": [
       "<Figure size 432x288 with 1 Axes>"
      ]
     },
     "metadata": {
      "needs_background": "light"
     },
     "output_type": "display_data"
    },
    {
     "data": {
      "image/png": "[encoded data removed]",
      "text/plain": [
       "<Figure size 432x288 with 1 Axes>"
      ]
     },
     "metadata": {
      "needs_background": "light"
     },
     "output_type": "display_data"
    },
    {
     "data": {
      "image/png": "[encoded data removed]",
      "text/plain": [
       "<Figure size 432x288 with 1 Axes>"
      ]
     },
     "metadata": {
      "needs_background": "light"
     },
     "output_type": "display_data"
    },
    {
     "data": {
      "image/png": "[encoded data removed]",
      "text/plain": [
       "<Figure size 432x288 with 1 Axes>"
      ]
     },
     "metadata": {
      "needs_background": "light"
     },
     "output_type": "display_data"
    },
    {
     "data": {
      "image/png": "[encoded data removed]",
      "text/plain": [
       "<Figure size 432x288 with 1 Axes>"
      ]
     },
     "metadata": {
      "needs_background": "light"
     },
     "output_type": "display_data"
    },
    {
     "data": {
      "image/png": "[encoded data removed]",
      "text/plain": [
       "<Figure size 432x288 with 1 Axes>"
      ]
     },
     "metadata": {
      "needs_background": "light"
     },
     "output_type": "display_data"
    },
    {
     "data": {
      "image/png": "[encoded data removed]",
      "text/plain": [
       "<Figure size 432x288 with 1 Axes>"
      ]
     },
     "metadata": {
      "needs_background": "light"
     },
     "output_type": "display_data"
    }
   ],
   "source": [
    "# Plot performance and coefficient distributions\n",
    "plot_shuffles(coefs)"
   ]
  }
 ],
 "metadata": {
  "kernelspec": {
   "display_name": "Python 3",
   "language": "python",
   "name": "python3"
  },
  "language_info": {
   "codemirror_mode": {
    "name": "ipython",
    "version": 3
   },
   "file_extension": ".py",
   "mimetype": "text/x-python",
   "name": "python",
   "nbconvert_exporter": "python",
   "pygments_lexer": "ipython3",
   "version": "3.7.6"
  }
 },
 "nbformat": 4,
 "nbformat_minor": 4
}
