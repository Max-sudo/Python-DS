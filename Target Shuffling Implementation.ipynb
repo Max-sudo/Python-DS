{
 "cells": [
  {
   "cell_type": "markdown",
   "metadata": {},
   "source": [
    "## Target Shuffling Implementation"
   ]
  },
  {
   "cell_type": "markdown",
   "metadata": {},
   "source": [
    "If a variable has a very large std. dev. --> lots of importance.\n",
    "If a variable has a very small std. dev. (around 0) --> not much importance\n",
    "\n",
    "Want to observe distribution of variables as well as accuracy of other models when shuffled"
   ]
  },
  {
   "cell_type": "code",
   "execution_count": 217,
   "metadata": {},
   "outputs": [],
   "source": [
    "import pandas as pd\n",
    "import numpy as np\n",
    "from dfply import *\n",
    "from IPython.display import clear_output\n",
    "from sklearn.model_selection import train_test_split\n",
    "from sklearn.linear_model import LogisticRegression\n",
    "from sklearn.ensemble import RandomForestClassifier\n",
    "from sklearn.metrics import roc_auc_score\n",
    "#import xgboost as xgb\n",
    "import random\n",
    "\n",
    "from IPython.core.interactiveshell import InteractiveShell\n",
    "InteractiveShell.ast_node_interactivity = \"all\"\n",
    "#InteractiveShell.ast_node_interactivity = \"last_expr\"\n",
    "\n",
    "from IPython.display import clear_output\n",
    "\n",
    "import matplotlib.pyplot as plt\n",
    "%matplotlib inline"
   ]
  },
  {
   "cell_type": "code",
   "execution_count": 32,
   "metadata": {},
   "outputs": [],
   "source": [
    "cc = pd.read_csv(\"/Users/mfairb/Documents/ML Projects/Project - Anamoly Detection/creditcard.csv\")\n",
    "\n",
    "cc = cc >> drop('Time') >> select('Class', 'Amount', everything())\n",
    "\n",
    "cc = cc.iloc[:,0:7]\n",
    "\n",
    "X = cc >> drop('Class')\n",
    "y = cc >> select('Class')\n",
    "\n",
    "X_train, X_test, y_train, y_test = train_test_split(X, y, test_size = 0.2, random_state = 273)"
   ]
  },
  {
   "cell_type": "markdown",
   "metadata": {},
   "source": [
    "## There are problems with AUC (many ~ 0)"
   ]
  },
  {
   "cell_type": "code",
   "execution_count": 164,
   "metadata": {},
   "outputs": [],
   "source": [
    "def target_shuffle(X_train, X_valid, y_train, y_valid, target, n):\n",
    "    # 1) X: df of predictors\n",
    "    # 2) y: response\n",
    "    # 3) target: name of target variable (string)\n",
    "    # 4) n: number of times to shuffle\n",
    "        \n",
    "    # Create empty data frame\n",
    "    shuffle = pd.DataFrame()\n",
    "    \n",
    "    # Create n models and save coefficients\n",
    "    for i in range(1, (n+1)):\n",
    "        \n",
    "            # Set seed\n",
    "            random.seed(i)\n",
    "            \n",
    "            # Create shuffled version of y\n",
    "            y_shuffled = y_train.sample(len(y_train), replace = False)\n",
    "    \n",
    "            # Create shuffled logistic, get predictions, and score\n",
    "            temp_log = LogisticRegression().fit(X_train, y_shuffled.values.ravel())\n",
    "            temp_preds = temp_log.predict_proba(X_valid)[:,1]\n",
    "            temp_score = roc_auc_score(y_valid, temp_preds)\n",
    "            \n",
    "            # Score model\n",
    "\n",
    "            # Get coefficients from temp_log\n",
    "            shuffle = shuffle.append( list([np.append(temp_log.coef_[0], temp_score)]) )\n",
    "            \n",
    "            # Progress\n",
    "            if i % 20 == 0:\n",
    "                print(str(i) + \" rounds completed\")\n",
    "    \n",
    "    # Add column names to shuffle\n",
    "    X_cols = list(X_train.columns)\n",
    "    X_cols.append(\"AUC\")\n",
    "    shuffle.columns = X_cols\n",
    "    \n",
    "    return(shuffle)"
   ]
  },
  {
   "cell_type": "markdown",
   "metadata": {},
   "source": [
    "###### Create model and then perform target shuffling"
   ]
  },
  {
   "cell_type": "code",
   "execution_count": null,
   "metadata": {},
   "outputs": [],
   "source": [
    "# Logistic regression\n",
    "log = LogisticRegression().fit(X_train, y_train.values.ravel())\n",
    "log_preds = log.predict_proba(X_test)[:,1]\n",
    "log_auc = roc_auc_score(y_test, log_preds)\n",
    "\n",
    "\n",
    "shuffles = target_shuffle(X_train = X_train, \n",
    "                          y_train = y_train, \n",
    "                          X_valid = X_test, \n",
    "                          y_valid = y_test, \n",
    "                          target = 'Class', n = 100)"
   ]
  },
  {
   "cell_type": "code",
   "execution_count": 196,
   "metadata": {},
   "outputs": [
    {
     "data": {
      "text/html": [
       "<div>\n",
       "<style scoped>\n",
       "    .dataframe tbody tr th:only-of-type {\n",
       "        vertical-align: middle;\n",
       "    }\n",
       "\n",
       "    .dataframe tbody tr th {\n",
       "        vertical-align: top;\n",
       "    }\n",
       "\n",
       "    .dataframe thead th {\n",
       "        text-align: right;\n",
       "    }\n",
       "</style>\n",
       "<table border=\"1\" class=\"dataframe\">\n",
       "  <thead>\n",
       "    <tr style=\"text-align: right;\">\n",
       "      <th></th>\n",
       "      <th>Amount</th>\n",
       "      <th>V1</th>\n",
       "      <th>V2</th>\n",
       "      <th>V3</th>\n",
       "      <th>V4</th>\n",
       "      <th>V5</th>\n",
       "      <th>AUC</th>\n",
       "    </tr>\n",
       "  </thead>\n",
       "  <tbody>\n",
       "    <tr>\n",
       "      <th>0</th>\n",
       "      <td>-0.000034</td>\n",
       "      <td>0.025221</td>\n",
       "      <td>0.004300</td>\n",
       "      <td>0.007803</td>\n",
       "      <td>-0.063428</td>\n",
       "      <td>-0.030677</td>\n",
       "      <td>0.066703</td>\n",
       "    </tr>\n",
       "    <tr>\n",
       "      <th>0</th>\n",
       "      <td>-0.000307</td>\n",
       "      <td>0.008480</td>\n",
       "      <td>-0.002189</td>\n",
       "      <td>0.000531</td>\n",
       "      <td>0.001570</td>\n",
       "      <td>0.029710</td>\n",
       "      <td>0.298475</td>\n",
       "    </tr>\n",
       "    <tr>\n",
       "      <th>0</th>\n",
       "      <td>0.000201</td>\n",
       "      <td>-0.000182</td>\n",
       "      <td>0.044762</td>\n",
       "      <td>0.040682</td>\n",
       "      <td>-0.023830</td>\n",
       "      <td>0.000106</td>\n",
       "      <td>0.125344</td>\n",
       "    </tr>\n",
       "    <tr>\n",
       "      <th>0</th>\n",
       "      <td>-0.000034</td>\n",
       "      <td>0.057103</td>\n",
       "      <td>0.061195</td>\n",
       "      <td>0.003473</td>\n",
       "      <td>-0.017321</td>\n",
       "      <td>0.007169</td>\n",
       "      <td>0.339613</td>\n",
       "    </tr>\n",
       "    <tr>\n",
       "      <th>0</th>\n",
       "      <td>0.000108</td>\n",
       "      <td>0.005997</td>\n",
       "      <td>0.011990</td>\n",
       "      <td>-0.014502</td>\n",
       "      <td>0.002429</td>\n",
       "      <td>0.006310</td>\n",
       "      <td>0.906563</td>\n",
       "    </tr>\n",
       "  </tbody>\n",
       "</table>\n",
       "</div>"
      ],
      "text/plain": [
       "     Amount        V1        V2        V3        V4        V5       AUC\n",
       "0 -0.000034  0.025221  0.004300  0.007803 -0.063428 -0.030677  0.066703\n",
       "0 -0.000307  0.008480 -0.002189  0.000531  0.001570  0.029710  0.298475\n",
       "0  0.000201 -0.000182  0.044762  0.040682 -0.023830  0.000106  0.125344\n",
       "0 -0.000034  0.057103  0.061195  0.003473 -0.017321  0.007169  0.339613\n",
       "0  0.000108  0.005997  0.011990 -0.014502  0.002429  0.006310  0.906563"
      ]
     },
     "execution_count": 196,
     "metadata": {},
     "output_type": "execute_result"
    }
   ],
   "source": [
    "shuffles.head()"
   ]
  },
  {
   "cell_type": "markdown",
   "metadata": {},
   "source": [
    "###### Plot all histograms"
   ]
  },
  {
   "cell_type": "code",
   "execution_count": 219,
   "metadata": {},
   "outputs": [],
   "source": [
    "###---To allow printing in for loop---###\n",
    "from IPython.core.interactiveshell import InteractiveShell\n",
    "InteractiveShell.ast_node_interactivity = \"last_expr\""
   ]
  },
  {
   "cell_type": "code",
   "execution_count": 220,
   "metadata": {},
   "outputs": [
    {
     "data": {
      "image/png": "[encoded data removed]",
      "text/plain": [
       "<Figure size 432x288 with 1 Axes>"
      ]
     },
     "metadata": {
      "needs_background": "light"
     },
     "output_type": "display_data"
    },
    {
     "data": {
      "image/png": "[encoded data removed]",
      "text/plain": [
       "<Figure size 432x288 with 1 Axes>"
      ]
     },
     "metadata": {
      "needs_background": "light"
     },
     "output_type": "display_data"
    },
    {
     "data": {
      "image/png": "[encoded data removed]",
      "text/plain": [
       "<Figure size 432x288 with 1 Axes>"
      ]
     },
     "metadata": {
      "needs_background": "light"
     },
     "output_type": "display_data"
    },
    {
     "data": {
      "image/png": "[encoded data removed]",
      "text/plain": [
       "<Figure size 432x288 with 1 Axes>"
      ]
     },
     "metadata": {
      "needs_background": "light"
     },
     "output_type": "display_data"
    },
    {
     "data": {
      "image/png": "[encoded data removed]",
      "text/plain": [
       "<Figure size 432x288 with 1 Axes>"
      ]
     },
     "metadata": {
      "needs_background": "light"
     },
     "output_type": "display_data"
    },
    {
     "data": {
      "image/png": "[encoded data removed]",
      "text/plain": [
       "<Figure size 432x288 with 1 Axes>"
      ]
     },
     "metadata": {
      "needs_background": "light"
     },
     "output_type": "display_data"
    },
    {
     "data": {
      "image/png": "[encoded data removed]",
      "text/plain": [
       "<Figure size 432x288 with 1 Axes>"
      ]
     },
     "metadata": {
      "needs_background": "light"
     },
     "output_type": "display_data"
    }
   ],
   "source": [
    "log_coef_2 = list( [np.append(log.coef_[0], log_auc)] )\n",
    "\n",
    "for i in range(0, 7):\n",
    "    plt.hist(shuffles.iloc[:,i], density=True, bins=30)  # `density=False` would make counts\n",
    "    plt.axvline(x = log_coef_2[0][i])\n",
    "    plt.title(shuffles.columns[i])\n",
    "    plt.ylabel('Probability')\n",
    "    plt.xlabel('Data')\n",
    "    plt.show()"
   ]
  }
 ],
 "metadata": {
  "kernelspec": {
   "display_name": "Python 3",
   "language": "python",
   "name": "python3"
  },
  "language_info": {
   "codemirror_mode": {
    "name": "ipython",
    "version": 3
   },
   "file_extension": ".py",
   "mimetype": "text/x-python",
   "name": "python",
   "nbconvert_exporter": "python",
   "pygments_lexer": "ipython3",
   "version": "3.7.6"
  }
 },
 "nbformat": 4,
 "nbformat_minor": 4
}
